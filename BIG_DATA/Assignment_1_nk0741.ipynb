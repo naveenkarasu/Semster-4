{
 "cells": [
  {
   "cell_type": "code",
   "execution_count": 1,
   "metadata": {},
   "outputs": [
    {
     "name": "stdout",
     "output_type": "stream",
     "text": [
      "13\n",
      "world!\n"
     ]
    }
   ],
   "source": [
    "var =\"Hello, world!\"\n",
    "print(len(var))\n",
    "print(var[7:])"
   ]
  },
  {
   "cell_type": "code",
   "execution_count": 2,
   "metadata": {},
   "outputs": [
    {
     "name": "stdout",
     "output_type": "stream",
     "text": [
      "<class 'int'> \n",
      " <class 'float'> \n",
      " <class 'str'>\n"
     ]
    }
   ],
   "source": [
    "print(type(1),\"\\n\",type(1.0),\"\\n\",type(\"1\"))"
   ]
  },
  {
   "cell_type": "code",
   "execution_count": 5,
   "metadata": {},
   "outputs": [
    {
     "name": "stdout",
     "output_type": "stream",
     "text": [
      "Area of Circle = 78.57\n"
     ]
    }
   ],
   "source": [
    "radius= 5\n",
    "aoc=(22/7.0)*5*5\n",
    "print(f\"Area of Circle = {aoc:.2f}\")"
   ]
  },
  {
   "cell_type": "code",
   "execution_count": 6,
   "metadata": {},
   "outputs": [
    {
     "name": "stdout",
     "output_type": "stream",
     "text": [
      "9\n",
      "8\n",
      "7\n",
      "6\n",
      "5\n",
      "4\n",
      "3\n",
      "2\n",
      "1\n",
      "0\n"
     ]
    }
   ],
   "source": [
    "for i in range(9,-1,-1):\n",
    "    print(i)"
   ]
  },
  {
   "cell_type": "code",
   "execution_count": 1,
   "metadata": {},
   "outputs": [
    {
     "name": "stdout",
     "output_type": "stream",
     "text": [
      "9\n",
      "10\n",
      "11\n",
      "12\n",
      "13\n",
      "14\n",
      "15\n",
      "16\n",
      "17\n",
      "18\n",
      "19\n",
      "20\n",
      "21\n"
     ]
    }
   ],
   "source": [
    "for i in range(9,22):\n",
    "    print(i)"
   ]
  },
  {
   "cell_type": "code",
   "execution_count": 14,
   "metadata": {},
   "outputs": [
    {
     "name": "stdout",
     "output_type": "stream",
     "text": [
      "Greater than 8\n"
     ]
    }
   ],
   "source": [
    "var=10\n",
    "if var>8:\n",
    "    print(\"Greater than 8\")\n",
    "elif var<9:\n",
    "    print(\"Less than 9\")\n",
    "elif var==10:\n",
    "    print(\"Equal to 10\")"
   ]
  },
  {
   "cell_type": "code",
   "execution_count": 15,
   "metadata": {},
   "outputs": [
    {
     "name": "stdout",
     "output_type": "stream",
     "text": [
      "Greater than 8\n",
      "Equal to 10\n"
     ]
    }
   ],
   "source": [
    "if var > 8:\n",
    "    print(\"Greater than 8\")\n",
    "if var < 9:\n",
    "    print(\"Less than 9\")\n",
    "if var == 10:\n",
    "    print(\"Equal to 10\")\n"
   ]
  },
  {
   "cell_type": "code",
   "execution_count": 21,
   "metadata": {},
   "outputs": [
    {
     "name": "stdout",
     "output_type": "stream",
     "text": [
      "4\n",
      "0 \n",
      " 1 \n",
      " 5 \n",
      " 2\n",
      "Please input string\n"
     ]
    }
   ],
   "source": [
    "'''Write a function which takes a string as its parameter and \n",
    "returns the length of the string.'''\n",
    "\n",
    "def length(pu):\n",
    "    if isinstance(pu,str):\n",
    "        return len(pu)\n",
    "    else:\n",
    "        return \"Please input string\"\n",
    "#Test cases:\n",
    "print(length(\"Kaja\"))\n",
    "print(length(\"\"),\"\\n\",length(\"p\"),\"\\n\",length(\"12345\"),\"\\n\",length('\"\"'))\n",
    "#Non string input\n",
    "print(length(1235))"
   ]
  },
  {
   "cell_type": "code",
   "execution_count": 26,
   "metadata": {},
   "outputs": [
    {
     "name": "stdout",
     "output_type": "stream",
     "text": [
      "1\t3\t\n",
      "1\t3\t5\t7\t9\t11\t13\t\n",
      "\n",
      "Enter a valid num\n"
     ]
    }
   ],
   "source": [
    "'''Write a function which takes a positive integer n \n",
    "as its parameter, and prints out all odd numbers from 1 to n.'''\n",
    "def pat(li):\n",
    "    if li>=0:\n",
    "        for i in range(1,li,2):\n",
    "            print(i,end=\"\\t\")\n",
    "        print()\n",
    "    else:\n",
    "        print(\"Enter a valid num\")\n",
    "## test cases\n",
    "pat(5)\n",
    "pat(14)\n",
    "pat(0)\n",
    "pat(-3)"
   ]
  },
  {
   "cell_type": "markdown",
   "metadata": {},
   "source": [
    "Part 2"
   ]
  },
  {
   "cell_type": "code",
   "execution_count": 28,
   "metadata": {},
   "outputs": [
    {
     "name": "stdout",
     "output_type": "stream",
     "text": [
      "3\n",
      "4\n",
      "6.0\n"
     ]
    }
   ],
   "source": [
    "class Triangle(object):\n",
    "\n",
    "    def __init__(self, base, height):\n",
    "        self.base = base\n",
    "        self.height = height\n",
    "\n",
    "    def getBase(self):\n",
    "        return self.base\n",
    "\n",
    "    def setBase(self, b):\n",
    "        self.base = b\n",
    "\n",
    "    def getHeight(self):\n",
    "        return self.height\n",
    "\n",
    "    def setHeight(self, h):\n",
    "        self.height = h\n",
    "\n",
    "    def Area(self):\n",
    "        return 0.5 * self.base * self.height\n",
    "\n",
    "\n",
    "# Example\n",
    "base = 3\n",
    "height = 4\n",
    "A = Triangle(base, height)\n",
    "\n",
    "print(A.getBase())    \n",
    "print(A.getHeight())  \n",
    "print(A.Area())       \n"
   ]
  },
  {
   "cell_type": "code",
   "execution_count": 34,
   "metadata": {},
   "outputs": [
    {
     "name": "stdout",
     "output_type": "stream",
     "text": [
      "Slope: 1.33\n",
      "Distance: 5.00\n"
     ]
    }
   ],
   "source": [
    "# Line class\n",
    "import math\n",
    "\n",
    "class Line(object):\n",
    "\n",
    "    def __init__(self, x, y):\n",
    "        if len(x) != 2 or len(y) != 2:\n",
    "            raise ValueError(\"Both x and y lists must contain exactly two elements.\")\n",
    "        self.x1, self.x2 = x\n",
    "        self.y1, self.y2 = y\n",
    "\n",
    "    def getSlope(self):\n",
    "        if self.x2 == self.x1:\n",
    "            raise ValueError(\"Vertical line has an undefined slope.\")\n",
    "        return (self.y2 - self.y1) / (self.x2 - self.x1)\n",
    "\n",
    "    def getDistance(self):\n",
    "        return math.sqrt((self.x2 - self.x1) ** 2 + (self.y2 - self.y1) ** 2)\n",
    "\n",
    "# Example usage:\n",
    "x_coords = [1, 4]\n",
    "y_coords = [2, 6]\n",
    "line = Line(x_coords, y_coords)\n",
    "\n",
    "print(f\"Slope: {line.getSlope():.2f}\")      \n",
    "print(f\"Distance: {line.getDistance():.2f}\")\n"
   ]
  },
  {
   "cell_type": "code",
   "execution_count": null,
   "metadata": {},
   "outputs": [],
   "source": []
  }
 ],
 "metadata": {
  "kernelspec": {
   "display_name": "Python 3",
   "language": "python",
   "name": "python3"
  },
  "language_info": {
   "codemirror_mode": {
    "name": "ipython",
    "version": 3
   },
   "file_extension": ".py",
   "mimetype": "text/x-python",
   "name": "python",
   "nbconvert_exporter": "python",
   "pygments_lexer": "ipython3",
   "version": "3.10.9"
  }
 },
 "nbformat": 4,
 "nbformat_minor": 2
}
