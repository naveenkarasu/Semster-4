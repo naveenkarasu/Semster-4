{
 "cells": [
  {
   "cell_type": "markdown",
   "id": "3e5dfa5a",
   "metadata": {},
   "source": [
    "# Task 1"
   ]
  },
  {
   "cell_type": "code",
   "execution_count": 24,
   "id": "3c4c59da",
   "metadata": {},
   "outputs": [
    {
     "name": "stdout",
     "output_type": "stream",
     "text": [
      "python for beginners welcome! are you completely new to programming? if not then we presume you will be looking for information about why and how to get started with python. \n"
     ]
    }
   ],
   "source": [
    "text = \"Python For Beginners Welcome! Are you completely new to programming? If not then we presume you will be looking for information about why and how to get started with Python.\"\n",
    "list_word = text.split(' ')\n",
    "\n",
    "lowertext = list(map(lambda word: word.lower(), list_word))\n",
    "\n",
    "l=''\n",
    "for word in lowertext:\n",
    "    l=l+word+' '\n",
    "    \n",
    "print(l)"
   ]
  },
  {
   "cell_type": "markdown",
   "id": "af1fccfe",
   "metadata": {},
   "source": [
    "# Task 2"
   ]
  },
  {
   "cell_type": "code",
   "execution_count": 33,
   "id": "3a925ca3",
   "metadata": {},
   "outputs": [
    {
     "name": "stdout",
     "output_type": "stream",
     "text": [
      "Python Beginners Welcome! completely programming? then presume will looking information about started with Python. \n"
     ]
    }
   ],
   "source": [
    "fwords = list(filter(lambda word: len(word)>=4, list_word))\n",
    "\n",
    "l=''\n",
    "for word in fwords:\n",
    "    l=l+word+' '\n",
    "    \n",
    "print(l)"
   ]
  },
  {
   "cell_type": "markdown",
   "id": "85f42d60",
   "metadata": {},
   "source": [
    "# Task 3"
   ]
  },
  {
   "cell_type": "code",
   "execution_count": 36,
   "id": "12fbd1df",
   "metadata": {},
   "outputs": [
    {
     "name": "stdout",
     "output_type": "stream",
     "text": [
      "PYTHONFORBEGINNERSWELCOME!AREYOUCOMPLETELYNEWTOPROGRAMMING?IFNOTTHENWEPRESUMEYOUWILLBELOOKINGFORINFORMATIONABOUTWHYANDHOWTOGETSTARTEDWITHPYTHON.\n"
     ]
    }
   ],
   "source": [
    "from functools import reduce\n",
    "\n",
    "uppertext = reduce((lambda x,y: x.upper()+y.upper()), list_word)\n",
    "\n",
    "print(uppertext)"
   ]
  }
 ],
 "metadata": {
  "kernelspec": {
   "display_name": "Python 3 (ipykernel)",
   "language": "python",
   "name": "python3"
  },
  "language_info": {
   "codemirror_mode": {
    "name": "ipython",
    "version": 3
   },
   "file_extension": ".py",
   "mimetype": "text/x-python",
   "name": "python",
   "nbconvert_exporter": "python",
   "pygments_lexer": "ipython3",
   "version": "3.9.13"
  }
 },
 "nbformat": 4,
 "nbformat_minor": 5
}
