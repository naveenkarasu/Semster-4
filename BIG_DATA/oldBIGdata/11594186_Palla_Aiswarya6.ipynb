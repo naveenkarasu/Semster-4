{
 "cells": [
  {
   "cell_type": "code",
   "execution_count": 15,
   "id": "c7d97dfb",
   "metadata": {},
   "outputs": [
    {
     "name": "stdout",
     "output_type": "stream",
     "text": [
      "Using KNN with K= 1\n",
      "( 8 , 21 ) is labelled as 0\n",
      "\n",
      "Using KNN with K= 1\n",
      "( 14 , 25 ) is labelled as 1\n",
      "\n",
      "Using KNN with K= 4\n",
      "( 11 , 22 ) is labelled as 1\n",
      "\n",
      "Using KNN with K= 4\n",
      "( 5 , 20 ) is labelled as 0\n",
      "\n"
     ]
    }
   ],
   "source": [
    "import math\n",
    "\n",
    "def sortfunc(l):\n",
    "    return(l[1])\n",
    "def distance(x,y):\n",
    "    distances=[]\n",
    "    for i in range(len(xt)):\n",
    "        xd=(x-xt[i])**2\n",
    "        yd=(y-yt[i])**2\n",
    "        d=math.sqrt(xd+yd)\n",
    "        distances.append([i,d])\n",
    "    distances.sort(key=sortfunc)\n",
    "    return distances\n",
    "def KNN(x,y,k):\n",
    "    c1=0\n",
    "    c0=0\n",
    "    d=distance(x,y)\n",
    "    nc=classes[d[0][0]]\n",
    "    \n",
    "    for i in range(k):\n",
    "        classind=d[i][0]\n",
    "        \n",
    "        if(classes[classind]==1):\n",
    "            c1+=1\n",
    "        else:\n",
    "            c0+=1\n",
    "    print(\"Using KNN with K=\",k)\n",
    "    if(c1>c0):\n",
    "        print(\"(\",x,\",\",y,\") is labelled as 1\")\n",
    "    elif(c0>c1):\n",
    "        print(\"(\",x,\",\",y,\") is labelled as 0\")\n",
    "    else:\n",
    "        print(\"(\",x,\",\",y,\") is labelled as\",nc)\n",
    "    print()\n",
    "xt = [4, 5, 10, 4, 3, 11, 14 , 8, 10, 12]\n",
    "yt = [21, 19, 24, 17, 16, 25, 24, 22, 21, 21]\n",
    "classes = [0, 0, 1, 0, 0, 1, 1, 0, 1, 1]\n",
    "\n",
    "KNN(8,21,1)\n",
    "KNN(14,25,1)\n",
    "KNN(11,22,4)\n",
    "KNN(5,20,4)"
   ]
  },
  {
   "cell_type": "code",
   "execution_count": null,
   "id": "ad8fee73",
   "metadata": {},
   "outputs": [],
   "source": []
  }
 ],
 "metadata": {
  "kernelspec": {
   "display_name": "Python 3 (ipykernel)",
   "language": "python",
   "name": "python3"
  },
  "language_info": {
   "codemirror_mode": {
    "name": "ipython",
    "version": 3
   },
   "file_extension": ".py",
   "mimetype": "text/x-python",
   "name": "python",
   "nbconvert_exporter": "python",
   "pygments_lexer": "ipython3",
   "version": "3.9.13"
  }
 },
 "nbformat": 4,
 "nbformat_minor": 5
}
