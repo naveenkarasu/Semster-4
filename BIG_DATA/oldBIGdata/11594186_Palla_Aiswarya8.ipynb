{
 "cells": [
  {
   "cell_type": "code",
   "execution_count": 1,
   "id": "414dda52",
   "metadata": {},
   "outputs": [
    {
     "name": "stdout",
     "output_type": "stream",
     "text": [
      "Requirement already satisfied: numpy in c:\\users\\aiswa\\anaconda3\\lib\\site-packages (1.21.5)\n",
      "Note: you may need to restart the kernel to use updated packages.\n"
     ]
    }
   ],
   "source": [
    "pip install numpy"
   ]
  },
  {
   "cell_type": "code",
   "execution_count": 1,
   "id": "a7a2e3e4",
   "metadata": {},
   "outputs": [
    {
     "name": "stdout",
     "output_type": "stream",
     "text": [
      "True\n",
      "124 µs ± 16.5 µs per loop (mean ± std. dev. of 7 runs, 10000 loops each)\n",
      "556 ms ± 22.8 ms per loop (mean ± std. dev. of 7 runs, 1 loop each)\n"
     ]
    }
   ],
   "source": [
    "import numpy as np\n",
    "\n",
    "# initialize matrices A and B with random values\n",
    "A = np.random.rand(64, 64)\n",
    "B = np.random.rand(64, 64)\n",
    "\n",
    "# initialize matrix C with zeros\n",
    "C = np.zeros((64, 64))\n",
    "\n",
    "# naive implementation of matrix multiplication using three nested for loops\n",
    "def matrix_mul(A, B):\n",
    "    for i in range(64):\n",
    "        for j in range(64):\n",
    "            for k in range(64):\n",
    "                C[i][j] += A[i][k] * B[k][j]\n",
    "    return C\n",
    "\n",
    "# compare the results with NumPy implementation\n",
    "C = matrix_mul(A, B)\n",
    "C_numpy = np.dot(A, B)\n",
    "print(np.allclose(C, C_numpy))\n",
    "\n",
    "# compare the performance of the naive implementation with NumPy implementation\n",
    "%timeit np.dot(A, B)\n",
    "%timeit matrix_mul(A, B)"
   ]
  },
  {
   "cell_type": "markdown",
   "id": "bd45b45e",
   "metadata": {},
   "source": [
    "From the above output, we can see that the results from matrix naive implementation and numpy implementation returned us the True. But the numpy matrix multiplication ran only for 51.5 µs and the naive implementation for 194 ms which is almost a 1000 times faster."
   ]
  },
  {
   "cell_type": "code",
   "execution_count": 15,
   "id": "289b6184",
   "metadata": {},
   "outputs": [
    {
     "name": "stdout",
     "output_type": "stream",
     "text": [
      "Thread 1 started\n",
      "Thread 1 counter: 6\n",
      "Thread 1 counter: 5\n",
      "Thread 1 counter: 4\n",
      "Thread 1 counter: 3\n",
      "Thread 1 counter: 2\n",
      "Thread 1 counter: 1\n",
      "Thread 1 exited\n",
      "Thread 2 started\n",
      "Thread 2 counter: 7\n",
      "Thread 2 counter: 6\n",
      "Thread 2 counter: 5\n",
      "Thread 2 counter: 4\n",
      "Thread 2 counter: 3\n",
      "Thread 2 counter: 2\n",
      "Thread 2 counter: 1\n",
      "Thread 2 exited\n",
      "Thread 3 started\n",
      "Thread 3 counter: 8\n",
      "Thread 3 counter: 7\n",
      "Thread 3 counter: 6\n",
      "Thread 3 counter: 5\n",
      "Thread 3 counter: 4\n",
      "Thread 3 counter: 3\n",
      "Thread 3 counter: 2\n",
      "Thread 3 counter: 1\n",
      "Thread 3 exited\n"
     ]
    }
   ],
   "source": [
    "import threading\n",
    "from time import sleep\n",
    "\n",
    "class MyThread(threading.Thread):\n",
    "    def __init__(self, thread_id, counter):\n",
    "        threading.Thread.__init__(self)\n",
    "        self.thread_id = thread_id\n",
    "        self.counter = counter\n",
    "\n",
    "    def run(self):\n",
    "        print(f\"Thread {self.thread_id} started\")\n",
    "        while self.counter > 0:\n",
    "            print(f\"Thread {self.thread_id} counter: {self.counter}\")\n",
    "            self.counter -= 1\n",
    "        print(f\"Thread {self.thread_id} exited\")\n",
    "\n",
    "# Create and start threads\n",
    "t1 = MyThread(1, 6)\n",
    "t2 = MyThread(2, 7)\n",
    "t3 = MyThread(3, 8)\n",
    "t1.start()\n",
    "t2.start()\n",
    "t3.start()\n",
    "t1.join()\n",
    "t2.join()\n",
    "t3.join()"
   ]
  },
  {
   "cell_type": "markdown",
   "id": "4876ce83",
   "metadata": {},
   "source": [
    "We can see from the o/p when we run the program using 3 threads(.i.e. id's= 1,2,3). We can see both the threads 1 and 2 started at the same time and thread 2 got excuted first followed by thread 1."
   ]
  },
  {
   "cell_type": "code",
   "execution_count": 14,
   "id": "5f0ba4c0",
   "metadata": {},
   "outputs": [
    {
     "name": "stdout",
     "output_type": "stream",
     "text": [
      "Starting thread 0\n",
      "Finishing thread 0\n",
      "Starting thread 1\n",
      "Finishing thread 1\n",
      "Starting thread 2\n",
      "Finishing thread 2\n",
      "Starting thread 3\n",
      "Finishing thread 3\n",
      "Starting thread 4\n",
      "Finishing thread 4\n",
      "All threads finished\n"
     ]
    }
   ],
   "source": [
    "import threading\n",
    "\n",
    "# Define a function to be executed in a thread\n",
    "def task(num):\n",
    "    print(f\"Starting thread {num}\")\n",
    "    # do some work here\n",
    "    print(f\"Finishing thread {num}\")\n",
    "\n",
    "# Create a list of threads\n",
    "threads = []\n",
    "for i in range(5):\n",
    "    t = threading.Thread(target=task, args=(i,))\n",
    "    threads.append(t)\n",
    "\n",
    "# Start all threads\n",
    "for t in threads:\n",
    "    t.start()\n",
    "\n",
    "# Wait for all threads to finish\n",
    "for t in threads:\n",
    "    t.join()\n",
    "\n",
    "print(\"All threads finished\")\n"
   ]
  },
  {
   "cell_type": "code",
   "execution_count": null,
   "id": "3470fb00",
   "metadata": {},
   "outputs": [],
   "source": []
  }
 ],
 "metadata": {
  "kernelspec": {
   "display_name": "Python 3 (ipykernel)",
   "language": "python",
   "name": "python3"
  },
  "language_info": {
   "codemirror_mode": {
    "name": "ipython",
    "version": 3
   },
   "file_extension": ".py",
   "mimetype": "text/x-python",
   "name": "python",
   "nbconvert_exporter": "python",
   "pygments_lexer": "ipython3",
   "version": "3.9.13"
  }
 },
 "nbformat": 4,
 "nbformat_minor": 5
}
