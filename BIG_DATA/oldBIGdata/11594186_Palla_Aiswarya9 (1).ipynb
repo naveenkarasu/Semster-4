{
 "cells": [
  {
   "cell_type": "code",
   "execution_count": 1,
   "id": "df8164ad",
   "metadata": {},
   "outputs": [
    {
     "name": "stdout",
     "output_type": "stream",
     "text": [
      "Collecting mmh3\n",
      "  Downloading mmh3-3.1.0-cp39-cp39-win_amd64.whl (15 kB)\n",
      "Installing collected packages: mmh3\n",
      "Successfully installed mmh3-3.1.0\n",
      "Note: you may need to restart the kernel to use updated packages.\n"
     ]
    }
   ],
   "source": [
    "pip install mmh3"
   ]
  },
  {
   "cell_type": "markdown",
   "id": "b98c9494",
   "metadata": {},
   "source": [
    "# Task1"
   ]
  },
  {
   "cell_type": "code",
   "execution_count": 3,
   "id": "25bbaa48",
   "metadata": {},
   "outputs": [
    {
     "name": "stdout",
     "output_type": "stream",
     "text": [
      "The item Hello is probably present\n",
      "The item World is probably present\n",
      "The item world is definitely not present\n"
     ]
    }
   ],
   "source": [
    "import mmh3\n",
    "from bitarray import bitarray\n",
    "import random\n",
    "\n",
    "r1=random.randint(0,100)\n",
    "\n",
    "r2=random.randint(0,100)\n",
    "while(r2==r1):\n",
    "    r2=random.randint(0,100)\n",
    "\n",
    "r3=random.randint(0,100)\n",
    "while(r3==r1 or r3==r2):\n",
    "    r3=random.randint(0,100)\n",
    "\n",
    "bitarr= bitarray(64)\n",
    "bitarr.setall(0)\n",
    "\n",
    "class BloomFilter:\n",
    "    \n",
    "    def __init__(self):\n",
    "        return\n",
    "    \n",
    "    def Hash1(self,a):\n",
    "        return (mmh3.hash(a,r1))%64\n",
    "    \n",
    "    def Hash2(self,a):\n",
    "        return (mmh3.hash(a,r2))%64\n",
    "    \n",
    "    def Hash3(self,a):\n",
    "        return (mmh3.hash(a,r3))%64\n",
    "    \n",
    "    def insert(self,a):\n",
    "        \n",
    "        i1=self.Hash1(a)\n",
    "        i2=self.Hash2(a)\n",
    "        i3=self.Hash3(a)\n",
    "        \n",
    "        bitarr[i1]=1\n",
    "        bitarr[i2]=1\n",
    "        bitarr[i3]=1\n",
    "        \n",
    "    def check(self,a):\n",
    "        \n",
    "        i1=self.Hash1(a)\n",
    "        i2=self.Hash2(a)\n",
    "        i3=self.Hash3(a)\n",
    "        \n",
    "        if(bitarr[i1]==1 and bitarr[i2]==1 and bitarr[i3]==1):\n",
    "            print(\"The item {} is probably present\".format(a))\n",
    "        else:\n",
    "            print(\"The item {} is definitely not present\".format(a))\n",
    "        \n",
    "        return None\n",
    "        \n",
    "\n",
    "bf=BloomFilter()\n",
    "        \n",
    "s= 'Hello'\n",
    "\n",
    "bf.insert(s)\n",
    "bf.insert('World')\n",
    "\n",
    "\n",
    "bf.check(s)\n",
    "bf.check('World')\n",
    "bf.check('world')\n",
    "\n",
    "#print(bitarr)"
   ]
  },
  {
   "cell_type": "markdown",
   "id": "664ecb85",
   "metadata": {},
   "source": [
    "# Task 2"
   ]
  },
  {
   "cell_type": "code",
   "execution_count": 4,
   "id": "54b243fe",
   "metadata": {},
   "outputs": [
    {
     "name": "stdout",
     "output_type": "stream",
     "text": [
      "estimated_count: 4096\n"
     ]
    }
   ],
   "source": [
    "import random\n",
    "\n",
    "count = 10000\n",
    "\n",
    "list_data = [int(random.random()*count) for _ in range(count)]\n",
    "\n",
    "def trailing_0(hash_value):\n",
    "    \n",
    "    if(hash_value==0):\n",
    "        return 0\n",
    "    \n",
    "    else:\n",
    "        \n",
    "        bin_value=bin(hash_value)\n",
    "        count=0\n",
    "        l=len(bin_value)\n",
    "        ind=l-1\n",
    "        bv=bin_value[ind]\n",
    "    \n",
    "        while(bv!='b' and bv!='1'):\n",
    "            count=count+1\n",
    "            ind=ind-1\n",
    "            bv=bin_value[ind]\n",
    "    \n",
    "        return count\n",
    "    \n",
    "def flajolet_martin(list_data):\n",
    "    \n",
    "    tail_0_max = 0\n",
    "\n",
    "    for data in list_data:\n",
    "        hash_value = hash(data)\n",
    "        tail_0_max = max(tail_0_max, trailing_0(hash_value))\n",
    "\n",
    "    return 2**tail_0_max\n",
    "\n",
    "estimated_count = flajolet_martin(list_data)\n",
    "\n",
    "print ('estimated_count: {}'.format(estimated_count))\n",
    "\n",
    "#print(list_data[0])\n",
    "#print(hash(list_data[0]))"
   ]
  },
  {
   "cell_type": "code",
   "execution_count": null,
   "id": "21c5a62f",
   "metadata": {},
   "outputs": [],
   "source": []
  }
 ],
 "metadata": {
  "kernelspec": {
   "display_name": "Python 3 (ipykernel)",
   "language": "python",
   "name": "python3"
  },
  "language_info": {
   "codemirror_mode": {
    "name": "ipython",
    "version": 3
   },
   "file_extension": ".py",
   "mimetype": "text/x-python",
   "name": "python",
   "nbconvert_exporter": "python",
   "pygments_lexer": "ipython3",
   "version": "3.9.13"
  }
 },
 "nbformat": 4,
 "nbformat_minor": 5
}
