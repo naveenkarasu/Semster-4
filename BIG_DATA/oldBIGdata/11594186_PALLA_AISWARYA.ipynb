{
 "cells": [
  {
   "cell_type": "code",
   "execution_count": 2,
   "id": "9a533896",
   "metadata": {},
   "outputs": [
    {
     "name": "stdout",
     "output_type": "stream",
     "text": [
      "         sex   class  survived  died\n",
      "0   Children   First         6     0\n",
      "1   Children  Second        24     0\n",
      "2   Children   Third        27    52\n",
      "3        Men   First        57   118\n",
      "4        Men  Second        14   154\n",
      "5        Men   Third        75   387\n",
      "6        Men    Crew       192   693\n",
      "7      Women   First       140     4\n",
      "8      Women  Second        80    13\n",
      "9      Women   Third        76    89\n",
      "10     Women    Crew        20     3\n"
     ]
    }
   ],
   "source": [
    "import pandas\n",
    "\n",
    "Titanic={'sex':['Children','Children','Children','Men','Men','Men','Men','Women','Women','Women','Women'],\n",
    "         'class': ['First','Second','Third','First','Second','Third','Crew','First','Second','Third','Crew'],\n",
    "         'survived':[6,24,27,57,14,75,192,140,80,76,20],\n",
    "         'died': [0,0,52,118,154,387,693,4,13,89,3]}\n",
    "\n",
    "dFrame=pandas.DataFrame(Titanic)\n",
    "print(dFrame)"
   ]
  },
  {
   "cell_type": "code",
   "execution_count": 9,
   "id": "15bf7d5b",
   "metadata": {
    "scrolled": true
   },
   "outputs": [
    {
     "name": "stdout",
     "output_type": "stream",
     "text": [
      "        sex   class  survived  died\n",
      "0  Children   First         6     0\n",
      "1  Children  Second        24     0\n",
      "2  Children   Third        27    52\n",
      "3       Men   First        57   118\n",
      "4       Men  Second        14   154\n",
      "5       Men   Third        75   387\n",
      "7     Women   First       140     4\n",
      "8     Women  Second        80    13\n",
      "9     Women   Third        76    89\n"
     ]
    }
   ],
   "source": [
    "l=[]\n",
    "for r in dFrame.index:\n",
    "    if(dFrame.iloc[r]['class']=='Crew'):\n",
    "        l.append(r)\n",
    "        \n",
    "dFrame_2=dFrame.drop(l)\n",
    "print(dFrame_2)"
   ]
  },
  {
   "cell_type": "code",
   "execution_count": 3,
   "id": "aac84d03",
   "metadata": {},
   "outputs": [
    {
     "name": "stdout",
     "output_type": "stream",
     "text": [
      "         sex   class  survived  died  Total People\n",
      "0   Children   First         6     0             6\n",
      "1   Children  Second        24     0            24\n",
      "2   Children   Third        27    52            79\n",
      "3        Men   First        57   118           175\n",
      "4        Men  Second        14   154           168\n",
      "5        Men   Third        75   387           462\n",
      "6        Men    Crew       192   693           885\n",
      "7      Women   First       140     4           144\n",
      "8      Women  Second        80    13            93\n",
      "9      Women   Third        76    89           165\n",
      "10     Women    Crew        20     3            23\n"
     ]
    }
   ],
   "source": [
    "dFrame['Total People']=(dFrame['survived']+dFrame['died'])\n",
    "print(dFrame)"
   ]
  },
  {
   "cell_type": "code",
   "execution_count": 4,
   "id": "37e32608",
   "metadata": {},
   "outputs": [
    {
     "name": "stdout",
     "output_type": "stream",
     "text": [
      "         sex   class  survived  died\n",
      "0   Children   First         6     0\n",
      "1   Children  Second        24     0\n",
      "2   Children   Third        27    52\n",
      "3        Men   First        57   118\n",
      "4        Men  Second        14   154\n",
      "5        Men   Third        75   387\n",
      "6        Men    Crew       192   693\n",
      "7      Women   First       140     4\n",
      "8      Women  Second        80    13\n",
      "9      Women   Third        76    89\n",
      "10     Women    Crew        20     3\n"
     ]
    }
   ],
   "source": [
    "dFrame=dFrame.drop('Total People',axis=1)\n",
    "print(dFrame)"
   ]
  },
  {
   "cell_type": "code",
   "execution_count": 5,
   "id": "3c1bddd7",
   "metadata": {},
   "outputs": [
    {
     "data": {
      "text/html": [
       "<div>\n",
       "<style scoped>\n",
       "    .dataframe tbody tr th:only-of-type {\n",
       "        vertical-align: middle;\n",
       "    }\n",
       "\n",
       "    .dataframe tbody tr th {\n",
       "        vertical-align: top;\n",
       "    }\n",
       "\n",
       "    .dataframe thead th {\n",
       "        text-align: right;\n",
       "    }\n",
       "</style>\n",
       "<table border=\"1\" class=\"dataframe\">\n",
       "  <thead>\n",
       "    <tr style=\"text-align: right;\">\n",
       "      <th></th>\n",
       "      <th>sex</th>\n",
       "      <th>class</th>\n",
       "      <th>survived</th>\n",
       "      <th>died</th>\n",
       "    </tr>\n",
       "  </thead>\n",
       "  <tbody>\n",
       "    <tr>\n",
       "      <th>0</th>\n",
       "      <td>Children</td>\n",
       "      <td>First</td>\n",
       "      <td>6</td>\n",
       "      <td>0</td>\n",
       "    </tr>\n",
       "    <tr>\n",
       "      <th>1</th>\n",
       "      <td>Children</td>\n",
       "      <td>Second</td>\n",
       "      <td>24</td>\n",
       "      <td>0</td>\n",
       "    </tr>\n",
       "    <tr>\n",
       "      <th>7</th>\n",
       "      <td>Women</td>\n",
       "      <td>First</td>\n",
       "      <td>140</td>\n",
       "      <td>4</td>\n",
       "    </tr>\n",
       "    <tr>\n",
       "      <th>8</th>\n",
       "      <td>Women</td>\n",
       "      <td>Second</td>\n",
       "      <td>80</td>\n",
       "      <td>13</td>\n",
       "    </tr>\n",
       "    <tr>\n",
       "      <th>10</th>\n",
       "      <td>Women</td>\n",
       "      <td>Crew</td>\n",
       "      <td>20</td>\n",
       "      <td>3</td>\n",
       "    </tr>\n",
       "  </tbody>\n",
       "</table>\n",
       "</div>"
      ],
      "text/plain": [
       "         sex   class  survived  died\n",
       "0   Children   First         6     0\n",
       "1   Children  Second        24     0\n",
       "7      Women   First       140     4\n",
       "8      Women  Second        80    13\n",
       "10     Women    Crew        20     3"
      ]
     },
     "execution_count": 5,
     "metadata": {},
     "output_type": "execute_result"
    }
   ],
   "source": [
    "ais=[]\n",
    "for r in dFrame.index:\n",
    "    per=(dFrame.iloc[r]['survived']/(dFrame.iloc[r]['survived']+dFrame.iloc[r]['died']))*100\n",
    "    if(per>80):\n",
    "        ais.append(r)\n",
    "\n",
    "dFrame.iloc[ais]"
   ]
  },
  {
   "cell_type": "code",
   "execution_count": null,
   "id": "e184d2ab",
   "metadata": {},
   "outputs": [],
   "source": []
  }
 ],
 "metadata": {
  "kernelspec": {
   "display_name": "Python 3 (ipykernel)",
   "language": "python",
   "name": "python3"
  },
  "language_info": {
   "codemirror_mode": {
    "name": "ipython",
    "version": 3
   },
   "file_extension": ".py",
   "mimetype": "text/x-python",
   "name": "python",
   "nbconvert_exporter": "python",
   "pygments_lexer": "ipython3",
   "version": "3.9.13"
  }
 },
 "nbformat": 4,
 "nbformat_minor": 5
}
