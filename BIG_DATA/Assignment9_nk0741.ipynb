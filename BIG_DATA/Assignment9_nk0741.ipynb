{
 "cells": [
  {
   "cell_type": "code",
   "execution_count": 3,
   "id": "bb041eff-b9c9-477e-b904-f4d09aaadfb7",
   "metadata": {},
   "outputs": [
    {
     "name": "stdout",
     "output_type": "stream",
     "text": [
      "Collecting bitarray\n",
      "  Downloading bitarray-3.0.0-cp312-cp312-win_amd64.whl.metadata (33 kB)\n",
      "Downloading bitarray-3.0.0-cp312-cp312-win_amd64.whl (121 kB)\n",
      "   ---------------------------------------- 0.0/121.7 kB ? eta -:--:--\n",
      "   ---------- ----------------------------- 30.7/121.7 kB 1.3 MB/s eta 0:00:01\n",
      "   ---------------------------------------- 121.7/121.7 kB 1.4 MB/s eta 0:00:00\n",
      "Installing collected packages: bitarray\n",
      "Successfully installed bitarray-3.0.0\n"
     ]
    }
   ],
   "source": [
    "!pip install bitarray"
   ]
  },
  {
   "cell_type": "code",
   "execution_count": 5,
   "id": "304db4fc-eb9c-4481-bbe6-7305431562c3",
   "metadata": {},
   "outputs": [
    {
     "name": "stdout",
     "output_type": "stream",
     "text": [
      "Collecting mmh3\n",
      "  Downloading mmh3-5.0.1-cp312-cp312-win_amd64.whl.metadata (14 kB)\n",
      "Downloading mmh3-5.0.1-cp312-cp312-win_amd64.whl (39 kB)\n",
      "Installing collected packages: mmh3\n",
      "Successfully installed mmh3-5.0.1\n"
     ]
    }
   ],
   "source": [
    "!pip install mmh3"
   ]
  },
  {
   "cell_type": "code",
   "execution_count": 9,
   "id": "f47278f2-c16d-416c-981a-bedc609b84b8",
   "metadata": {},
   "outputs": [
    {
     "name": "stdout",
     "output_type": "stream",
     "text": [
      "Requirement already satisfied: nltk in c:\\users\\laksh\\anaconda3\\lib\\site-packages (3.8.1)\n",
      "Requirement already satisfied: click in c:\\users\\laksh\\anaconda3\\lib\\site-packages (from nltk) (8.1.7)\n",
      "Requirement already satisfied: joblib in c:\\users\\laksh\\anaconda3\\lib\\site-packages (from nltk) (1.4.2)\n",
      "Requirement already satisfied: regex>=2021.8.3 in c:\\users\\laksh\\anaconda3\\lib\\site-packages (from nltk) (2023.10.3)\n",
      "Requirement already satisfied: tqdm in c:\\users\\laksh\\anaconda3\\lib\\site-packages (from nltk) (4.66.4)\n",
      "Requirement already satisfied: colorama in c:\\users\\laksh\\anaconda3\\lib\\site-packages (from click->nltk) (0.4.6)\n"
     ]
    }
   ],
   "source": [
    "!pip install nltk"
   ]
  },
  {
   "cell_type": "code",
   "execution_count": 29,
   "id": "a171c77b-542e-4ae8-94e5-b7141c1fce2d",
   "metadata": {},
   "outputs": [
    {
     "name": "stdout",
     "output_type": "stream",
     "text": [
      "Checking words in vocabulary:\n",
      "algorithm: True\n",
      "data: True\n",
      "python: True\n",
      "\n",
      "Checking misspelled words:\n",
      "algorthm: False\n",
      "structre: True\n",
      "jva: True\n"
     ]
    }
   ],
   "source": [
    "import mmh3\n",
    "from bitarray import bitarray\n",
    "\n",
    "class BloomFilter:\n",
    "    def __init__(self, size: int, hash_count: int):\n",
    "        self.size = size\n",
    "        self.hash_count = hash_count\n",
    "        self.bit_array = bitarray(size)\n",
    "        self.bit_array.setall(0)\n",
    "    \n",
    "    def add(self, item: str):\n",
    "        for i in range(self.hash_count):\n",
    "            digest = mmh3.hash(item, i) % self.size\n",
    "            self.bit_array[digest] = 1\n",
    "    \n",
    "    def check(self, item: str) -> bool:\n",
    "        for i in range(self.hash_count):\n",
    "            digest = mmh3.hash(item, i) % self.size\n",
    "            if not self.bit_array[digest]:\n",
    "                return False\n",
    "        return True\n",
    "\n",
    "bloom = BloomFilter(size=25, hash_count=7)\n",
    "vocabulary = [\"algorithm\", \"data\", \"structure\", \"python\", \"java\", \"programming\", \"computer\", \"science\"]\n",
    "\n",
    "for word in vocabulary:\n",
    "    bloom.add(word)\n",
    "\n",
    "print(\"Checking words in vocabulary:\")\n",
    "print(\"algorithm:\", bloom.check(\"algorithm\"))\n",
    "print(\"data:\", bloom.check(\"data\"))\n",
    "print(\"python:\", bloom.check(\"python\"))\n",
    "\n",
    "print(\"\\nChecking misspelled words:\")\n",
    "print(\"algorthm:\", bloom.check(\"algorthm\"))\n",
    "print(\"structre:\", bloom.check(\"structre\"))\n",
    "print(\"jva:\", bloom.check(\"jva\"))\n"
   ]
  },
  {
   "cell_type": "code",
   "execution_count": 31,
   "id": "fbf82ec0-3e5a-4446-98da-8a20e9374f7e",
   "metadata": {},
   "outputs": [
    {
     "name": "stderr",
     "output_type": "stream",
     "text": [
      "[nltk_data] Downloading package words to\n",
      "[nltk_data]     C:\\Users\\laksh\\AppData\\Roaming\\nltk_data...\n",
      "[nltk_data]   Package words is already up-to-date!\n"
     ]
    },
    {
     "name": "stdin",
     "output_type": "stream",
     "text": [
      "Enter a word (or type 'exit' to quit):  test\n"
     ]
    },
    {
     "name": "stdout",
     "output_type": "stream",
     "text": [
      "The spelling is correct.\n"
     ]
    },
    {
     "name": "stdin",
     "output_type": "stream",
     "text": [
      "Enter a word (or type 'exit' to quit):  tesk\n"
     ]
    },
    {
     "name": "stdout",
     "output_type": "stream",
     "text": [
      "The word is misspelled.\n"
     ]
    },
    {
     "name": "stdin",
     "output_type": "stream",
     "text": [
      "Enter a word (or type 'exit' to quit):  dfafasf\n"
     ]
    },
    {
     "name": "stdout",
     "output_type": "stream",
     "text": [
      "The word is misspelled.\n"
     ]
    },
    {
     "name": "stdin",
     "output_type": "stream",
     "text": [
      "Enter a word (or type 'exit' to quit):  god\n"
     ]
    },
    {
     "name": "stdout",
     "output_type": "stream",
     "text": [
      "The spelling is correct.\n"
     ]
    },
    {
     "name": "stdin",
     "output_type": "stream",
     "text": [
      "Enter a word (or type 'exit' to quit):  good\n"
     ]
    },
    {
     "name": "stdout",
     "output_type": "stream",
     "text": [
      "The spelling is correct.\n"
     ]
    },
    {
     "name": "stdin",
     "output_type": "stream",
     "text": [
      "Enter a word (or type 'exit' to quit):  goooooooooooooood\n"
     ]
    },
    {
     "name": "stdout",
     "output_type": "stream",
     "text": [
      "The word is misspelled.\n"
     ]
    },
    {
     "name": "stdin",
     "output_type": "stream",
     "text": [
      "Enter a word (or type 'exit' to quit):  guard\n"
     ]
    },
    {
     "name": "stdout",
     "output_type": "stream",
     "text": [
      "The spelling is correct.\n"
     ]
    },
    {
     "name": "stdin",
     "output_type": "stream",
     "text": [
      "Enter a word (or type 'exit' to quit):  gard\n"
     ]
    },
    {
     "name": "stdout",
     "output_type": "stream",
     "text": [
      "The word is misspelled.\n"
     ]
    },
    {
     "name": "stdin",
     "output_type": "stream",
     "text": [
      "Enter a word (or type 'exit' to quit):  nk0741\n"
     ]
    },
    {
     "name": "stdout",
     "output_type": "stream",
     "text": [
      "The word is misspelled.\n"
     ]
    },
    {
     "name": "stdin",
     "output_type": "stream",
     "text": [
      "Enter a word (or type 'exit' to quit):  exit\n"
     ]
    },
    {
     "name": "stdout",
     "output_type": "stream",
     "text": [
      "Exiting the program.\n"
     ]
    }
   ],
   "source": [
    "import mmh3\n",
    "from bitarray import bitarray\n",
    "import nltk\n",
    "from nltk.corpus import words\n",
    "\n",
    "def main():\n",
    "    bloom = BloomFilter(size=150000, hash_count=7)\n",
    "    nltk.download('words')\n",
    "    vocabulary = words.words()\n",
    "    \n",
    "    for word in vocabulary:\n",
    "        bloom.add(word)\n",
    "\n",
    "    while True:\n",
    "        user_input = input(\"Enter a word (or type 'exit' to quit): \").strip().lower()\n",
    "        \n",
    "        if user_input == 'exit':\n",
    "            print(\"Exiting the program.\")\n",
    "            break\n",
    "        \n",
    "        if user_input:\n",
    "            in_bloom = bloom.check(user_input)\n",
    "            in_vocabulary = user_input in vocabulary\n",
    "            \n",
    "            if in_bloom and in_vocabulary:\n",
    "                print(\"The spelling is correct.\")\n",
    "            else:\n",
    "                print(\"The word is misspelled.\")\n",
    "        else:\n",
    "            print(\"No input provided. Please enter a word.\")\n",
    "\n",
    "if __name__ == \"__main__\":\n",
    "    main()\n"
   ]
  },
  {
   "cell_type": "code",
   "execution_count": null,
   "id": "fe92ee9a-740a-49ea-9355-cf2579274932",
   "metadata": {},
   "outputs": [],
   "source": []
  }
 ],
 "metadata": {
  "kernelspec": {
   "display_name": "Python 3 (ipykernel)",
   "language": "python",
   "name": "python3"
  },
  "language_info": {
   "codemirror_mode": {
    "name": "ipython",
    "version": 3
   },
   "file_extension": ".py",
   "mimetype": "text/x-python",
   "name": "python",
   "nbconvert_exporter": "python",
   "pygments_lexer": "ipython3",
   "version": "3.12.4"
  }
 },
 "nbformat": 4,
 "nbformat_minor": 5
}
